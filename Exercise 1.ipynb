{
 "cells": [
  {
   "cell_type": "code",
   "execution_count": 1,
   "id": "c03a26c7",
   "metadata": {},
   "outputs": [
    {
     "name": "stdout",
     "output_type": "stream",
     "text": [
      "Enter the First Number: 10\n",
      "Enter the Second Number: 20\n",
      "30\n"
     ]
    }
   ],
   "source": [
    "#Write a Program to calculate the sum of two numbers\n",
    "\n",
    "num1=int(input(\"Enter the First Number: \"))\n",
    "\n",
    "num2=int(input(\"Enter the Second Number: \"))\n",
    "\n",
    "sum = num1+num2\n",
    "\n",
    "print(sum)"
   ]
  },
  {
   "cell_type": "code",
   "execution_count": 2,
   "id": "257090d4",
   "metadata": {},
   "outputs": [
    {
     "name": "stdout",
     "output_type": "stream",
     "text": [
      "The Average number is  100.0\n"
     ]
    }
   ],
   "source": [
    "# Write a program to find the average of three numbers\n",
    "a=100\n",
    "b=100\n",
    "c=100\n",
    "\n",
    "avg=(a+b+c)/3\n",
    "\n",
    "print(\"The Average number is \",+avg)"
   ]
  },
  {
   "cell_type": "code",
   "execution_count": 3,
   "id": "751b781b",
   "metadata": {},
   "outputs": [
    {
     "name": "stdout",
     "output_type": "stream",
     "text": [
      "Enter a given Number: 199\n",
      "The number is Odd 199\n"
     ]
    }
   ],
   "source": [
    "# Write a program to check if a given number is even or odd\n",
    "\n",
    "num= int(input(\"Enter a given Number: \"))\n",
    "\n",
    "if num%2==0:\n",
    "    print(\"The number is Even\",num)\n",
    "\n",
    "else:\n",
    "    print(\"The number is Odd\",num)"
   ]
  },
  {
   "cell_type": "code",
   "execution_count": 4,
   "id": "79eeef76",
   "metadata": {},
   "outputs": [
    {
     "name": "stdout",
     "output_type": "stream",
     "text": [
      "7 is the largest of three numbers.\n"
     ]
    }
   ],
   "source": [
    "a = 5\n",
    "b = 4\n",
    "c = 7\n",
    "\n",
    "largest = 0\n",
    "\n",
    "if a > b and a > c:\n",
    "    largest = a\n",
    "if b > a and b > c:\n",
    "    largest = b\n",
    "if c > a and c > b:\n",
    "    largest = c\n",
    "\n",
    "print(largest, \"is the largest of three numbers.\")"
   ]
  },
  {
   "cell_type": "code",
   "execution_count": 5,
   "id": "46a96c11",
   "metadata": {},
   "outputs": [
    {
     "name": "stdout",
     "output_type": "stream",
     "text": [
      "Enter the Number: 10\n",
      "The factorial of 10 is 3628800\n"
     ]
    }
   ],
   "source": [
    "# Write a program to calculate the factorial of a given number \n",
    "num=int(input(\"Enter the Number: \"))\n",
    "factorial=1\n",
    "if num<0:\n",
    "    print(\"Factorial does not exit for negative number .\")\n",
    "elif(num==0):\n",
    "    print(\"The factorial number o is 1\")\n",
    "\n",
    "else:\n",
    "    for i in range(1, num+1):\n",
    "        factorial= factorial*i\n",
    "        \n",
    "    print(\"The factorial of\",num,\"is\",factorial) "
   ]
  },
  {
   "cell_type": "code",
   "execution_count": 6,
   "id": "00f9db53",
   "metadata": {},
   "outputs": [
    {
     "name": "stdout",
     "output_type": "stream",
     "text": [
      "Enter the number:10\n",
      "True 10\n"
     ]
    }
   ],
   "source": [
    "\n",
    "#Check if a given number is even. Print True if it is , and False otherwise\n",
    "\n",
    "num=int(input(\"Enter the number:\"))\n",
    "\n",
    "if num%2==0:\n",
    "    print(\"True\",num)\n",
    "else:\n",
    "    print(\"False\",num)"
   ]
  },
  {
   "cell_type": "code",
   "execution_count": 7,
   "id": "13a973a7",
   "metadata": {},
   "outputs": [
    {
     "name": "stdout",
     "output_type": "stream",
     "text": [
      "Checking whether Proloy Kumar Mondal is upper case\n",
      "False\n",
      "Checking whether PROLOY KUMAR MONDAL is upper case\n",
      "True\n"
     ]
    }
   ],
   "source": [
    "#Determine if a string contains only uppercase letters . print true if it dose,and False otherwise\n",
    "\n",
    "str1 = \"Proloy Kumar Mondal\"\n",
    "\n",
    "str2=\"PROLOY KUMAR MONDAL\"\n",
    "\n",
    "# We are checking with the help of the isupper() function.\n",
    "\n",
    "print(\"Checking whether\",str1,\"is upper case\")\n",
    "print(str1.isupper())\n",
    "\n",
    "print(\"Checking whether\",str2,\"is upper case\")\n",
    "print(str2.isupper())"
   ]
  },
  {
   "cell_type": "code",
   "execution_count": 8,
   "id": "30e7a307",
   "metadata": {},
   "outputs": [
    {
     "name": "stdout",
     "output_type": "stream",
     "text": [
      "False\n",
      "False\n",
      "False\n",
      "False\n",
      "False\n",
      "True\n"
     ]
    }
   ],
   "source": [
    "#Given a list of integers check if any of the number are negative . Print True if there is at least one negative number and False Otherwise\n",
    "list=[1,2,3,4,5,-6]\n",
    "\n",
    "for i in list:\n",
    "    if i<0:\n",
    "        print(\"True\")\n",
    "\n",
    "    else:\n",
    "        print(\"False\")"
   ]
  },
  {
   "cell_type": "code",
   "execution_count": null,
   "id": "71ca1f9e",
   "metadata": {},
   "outputs": [],
   "source": []
  },
  {
   "cell_type": "code",
   "execution_count": null,
   "id": "b72473a8",
   "metadata": {},
   "outputs": [],
   "source": []
  },
  {
   "cell_type": "code",
   "execution_count": null,
   "id": "ce4a216f",
   "metadata": {},
   "outputs": [],
   "source": []
  },
  {
   "cell_type": "code",
   "execution_count": null,
   "id": "0b0f0f53",
   "metadata": {},
   "outputs": [],
   "source": []
  }
 ],
 "metadata": {
  "kernelspec": {
   "display_name": "Python 3 (ipykernel)",
   "language": "python",
   "name": "python3"
  },
  "language_info": {
   "codemirror_mode": {
    "name": "ipython",
    "version": 3
   },
   "file_extension": ".py",
   "mimetype": "text/x-python",
   "name": "python",
   "nbconvert_exporter": "python",
   "pygments_lexer": "ipython3",
   "version": "3.9.13"
  }
 },
 "nbformat": 4,
 "nbformat_minor": 5
}
